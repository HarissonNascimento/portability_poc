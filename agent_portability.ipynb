{
 "cells": [
  {
   "cell_type": "markdown",
   "metadata": {},
   "source": [
    "Classes de modelo que serão usadas para solicitação da portabilidade"
   ]
  },
  {
   "cell_type": "code",
   "execution_count": null,
   "metadata": {},
   "outputs": [],
   "source": [
    "from pydantic import BaseModel\n",
    "\n",
    "class Enterprise(BaseModel):\n",
    "    name: str\n",
    "    cnpj: str\n",
    "    address: str\n",
    "\n",
    "class AccountData(BaseModel):\n",
    "    user_name: str\n",
    "    cpf: str\n",
    "    agency: str\n",
    "    account: str\n",
    "    dac: str\n",
    "    bank_code: str\n",
    "    enterprise: Enterprise"
   ]
  },
  {
   "cell_type": "markdown",
   "metadata": {},
   "source": [
    "Funções que serão utilizadas pelas Tools do agente para executar a chamada para o OpenFinance e a solicitação da portabilidade"
   ]
  },
  {
   "cell_type": "code",
   "execution_count": null,
   "metadata": {},
   "outputs": [],
   "source": [
    "import requests\n",
    "from langchain_core.tools import ToolException\n",
    "\n",
    "def _get_data_from_openfinance(*args):\n",
    "    try:\n",
    "        response = requests.get(\"http://127.0.0.1:8080/account_data\")\n",
    "        return response.json()\n",
    "    except:\n",
    "        return {'message': 'Não foi possivel consultar os dados do cliente no OpenFinance'}\n",
    "\n",
    "def _request_portability_without_data_imputed(s: str):\n",
    "    try:\n",
    "        data = _get_data_from_openfinance()\n",
    "        payload = {\n",
    "\t        \"user_name\": data['data']['user_name'],\n",
    "\t        \"cpf\": data['data']['cpf'],\n",
    "\t        \"agency\": data['data']['agency'],\n",
    "\t        \"account\": data['data']['account'],\n",
    "\t        \"dac\": data['data']['dac'],\n",
    "\t        \"bank_code\": data['data']['bank_code'],\n",
    "\t        \"enterprise\": {\n",
    "\t        \t\"name\": data['data']['enterprise']['name'],\n",
    "\t        \t\"cnpj\": data['data']['enterprise']['cnpj'],\n",
    "\t        \t\"address\": data['data']['enterprise']['address']\n",
    "\t        }\n",
    "        }\n",
    "        response = requests.post(\"http://127.0.0.1:8081/effect_portability\", json=payload)\n",
    "        if response.status_code == 200:\n",
    "            return 'Portabilidade solicitada com sucesso!'\n",
    "        return 'Não foi possivel solicitar a portabilidade de salário.'\n",
    "    except:\n",
    "        return 'Não foi possivel solicitar a portabilidade de salário.'\n",
    "    \n",
    "def _request_portability_with_imputed_data(**kwargs):\n",
    "    try:\n",
    "        payload = {\n",
    "\t        \"user_name\": kwargs['user_name'],\n",
    "\t        \"cpf\": kwargs['cpf'],\n",
    "\t        \"agency\": kwargs['agency'],\n",
    "\t        \"account\": kwargs['account'],\n",
    "\t        \"dac\": kwargs['dac'],\n",
    "\t        \"bank_code\": kwargs['bank_code'],\n",
    "\t        \"enterprise\": {\n",
    "\t        \t\"name\": kwargs['enterprise']['name'],\n",
    "\t        \t\"cnpj\": kwargs['enterprise']['cnpj'],\n",
    "\t        \t\"address\": kwargs['enterprise']['address']\n",
    "\t        }\n",
    "        }\n",
    "        response = requests.post(\"http://127.0.0.1:8081/effect_portability\", json=payload)\n",
    "        if response.status_code == 200:\n",
    "            return 'Portabilidade solicitada com sucesso!'\n",
    "        return 'Não foi possivel solicitar a portabilidade de salário.'\n",
    "    except:\n",
    "        return 'Não foi possivel solicitar a portabilidade de salário.'\n",
    "    \n",
    "def _handle_error(error: ToolException) -> str:\n",
    "    if error.args[0].startswith(\"Too many arguments to single-input tool\"):\n",
    "        return \"Formate em uma ÚNICA STRING JSON. NÃO USE ENTRADA DE MÚLTIPLOS\"\n",
    "    return (\n",
    "    \"The following errors occurred during tool execution:\"\n",
    "    + error.args[0]\n",
    "    + \"Please try another tool.\")"
   ]
  },
  {
   "cell_type": "markdown",
   "metadata": {},
   "source": [
    "Tools que serão usadas pelo Agent para executar a solicitação de portabilidade"
   ]
  },
  {
   "cell_type": "code",
   "execution_count": null,
   "metadata": {},
   "outputs": [],
   "source": [
    "from langchain.agents import Tool\n",
    "from langchain.tools import StructuredTool\n",
    "\n",
    "tools = [\n",
    "    Tool.from_function(\n",
    "        func=_get_data_from_openfinance,\n",
    "        name='get_data_from_openfinance',\n",
    "        description='Utilize essa ferramenta para obter os dados do usuário.',\n",
    "        handle_tool_error=_handle_error,\n",
    "    ),\n",
    "    Tool.from_function(\n",
    "        func=_request_portability_without_data_imputed,\n",
    "        name='portability_without_data_imputed',\n",
    "        description='Utilize esta ferramenta para tentar solicitar a portabilidade salarial quando NÃO possuir os dados do usuário.',\n",
    "        handle_tool_error=_handle_error,\n",
    "    ),\n",
    "    StructuredTool.from_function(\n",
    "        func=_request_portability_with_imputed_data,\n",
    "        name='portability_with_data_imputed',\n",
    "        description='Utilize esta ferramenta para tentar solicitar a portabilidade salarial quando possuir os dados do usuário.',\n",
    "        args_schema=AccountData,\n",
    "        handle_tool_error=_handle_error,\n",
    "    )\n",
    "]"
   ]
  },
  {
   "cell_type": "markdown",
   "metadata": {},
   "source": [
    "Inicializa LLM, Memory e Prompt"
   ]
  },
  {
   "cell_type": "code",
   "execution_count": null,
   "metadata": {},
   "outputs": [],
   "source": [
    "from langchain.chat_models import ChatOpenAI\n",
    "from langchain.memory import ConversationBufferMemory\n",
    "from langchain.prompts import ChatPromptTemplate, MessagesPlaceholder\n",
    "\n",
    "# gpt-3.5-turbo\n",
    "# gpt-4\n",
    "llm = ChatOpenAI(model='gpt-4')\n",
    "\n",
    "prompt_template = open('agent_portability_prompt.txt', 'r', encoding='utf-8').read()\n",
    "prompt = ChatPromptTemplate.from_messages(\n",
    "    [\n",
    "        ('system', prompt_template),\n",
    "        MessagesPlaceholder(variable_name='history'),\n",
    "        ('human', '{input}'),\n",
    "    ]\n",
    ")\n",
    "\n",
    "memory = ConversationBufferMemory(return_messages=True)"
   ]
  },
  {
   "cell_type": "markdown",
   "metadata": {},
   "source": [
    "Criação do Agent que será responsável por tomar as decisões e executar a portabilidade de salário."
   ]
  },
  {
   "cell_type": "code",
   "execution_count": null,
   "metadata": {},
   "outputs": [],
   "source": [
    "from langchain.agents import AgentType,initialize_agent\n",
    "\n",
    "agent = initialize_agent(\n",
    "    llm=llm,\n",
    "    tools=tools,\n",
    "    agent=AgentType.OPENAI_FUNCTIONS,\n",
    "    verbose=True\n",
    ")"
   ]
  },
  {
   "cell_type": "markdown",
   "metadata": {},
   "source": [
    "Cria a Chain com o Prompt, Memory e Agent"
   ]
  },
  {
   "cell_type": "code",
   "execution_count": null,
   "metadata": {},
   "outputs": [],
   "source": [
    "from operator import itemgetter\n",
    "\n",
    "from langchain_core.runnables import RunnableLambda, RunnablePassthrough\n",
    "\n",
    "chain = (\n",
    "    RunnablePassthrough.assign(\n",
    "        history=RunnableLambda(memory.load_memory_variables) | itemgetter(\"history\")\n",
    "    )\n",
    "    | prompt\n",
    "    | agent\n",
    ")"
   ]
  },
  {
   "cell_type": "markdown",
   "metadata": {},
   "source": [
    "Função responsável por se comunicar com a IA e salvar o histórico de mensagens"
   ]
  },
  {
   "cell_type": "code",
   "execution_count": null,
   "metadata": {},
   "outputs": [],
   "source": [
    "def _call_ia(input: str):\n",
    "    response = chain.invoke({'input': input})\n",
    "    memory.save_context({'input': input}, {'output': response['output']})\n",
    "    print(response['output'])"
   ]
  },
  {
   "cell_type": "code",
   "execution_count": null,
   "metadata": {},
   "outputs": [],
   "source": [
    "_call_ia(\"Olá\")"
   ]
  }
 ],
 "metadata": {
  "kernelspec": {
   "display_name": "Python 3",
   "language": "python",
   "name": "python3"
  },
  "language_info": {
   "codemirror_mode": {
    "name": "ipython",
    "version": 3
   },
   "file_extension": ".py",
   "mimetype": "text/x-python",
   "name": "python",
   "nbconvert_exporter": "python",
   "pygments_lexer": "ipython3",
   "version": "3.11.5"
  }
 },
 "nbformat": 4,
 "nbformat_minor": 2
}
